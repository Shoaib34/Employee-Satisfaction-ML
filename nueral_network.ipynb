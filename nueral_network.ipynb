{
  "nbformat": 4,
  "nbformat_minor": 0,
  "metadata": {
    "colab": {
      "provenance": [],
      "gpuType": "T4"
    },
    "kernelspec": {
      "name": "python3",
      "display_name": "Python 3"
    },
    "language_info": {
      "name": "python"
    },
    "accelerator": "GPU"
  },
  "cells": [
    {
      "cell_type": "code",
      "execution_count": 1,
      "metadata": {
        "id": "fouz0Pt13Qx7"
      },
      "outputs": [],
      "source": [
        "import pandas as pd\n",
        "from sklearn.preprocessing import StandardScaler, OneHotEncoder, MinMaxScaler\n",
        "from sklearn.compose import ColumnTransformer\n",
        "from sklearn.pipeline import Pipeline\n",
        "from sklearn.model_selection import train_test_split, GridSearchCV\n",
        "from sklearn.linear_model import LinearRegression\n",
        "from sklearn.ensemble import RandomForestRegressor\n",
        "from sklearn.neighbors import KNeighborsRegressor\n",
        "from sklearn.metrics import mean_squared_error\n",
        "import numpy as np\n",
        "import tensorflow as tf\n",
        "from tensorflow.keras.models import Sequential\n",
        "from tensorflow.keras.layers import Dense\n"
      ]
    },
    {
      "cell_type": "code",
      "source": [
        "# Replace 'your_file.csv' with the path to your CSV file\n",
        "file_path = 'Employee Attrition.csv'\n",
        "\n",
        "# Read the CSV file into a pandas DataFrame\n",
        "data = pd.read_csv(file_path)\n"
      ],
      "metadata": {
        "id": "vAwPd9P13Z_0"
      },
      "execution_count": 2,
      "outputs": []
    },
    {
      "cell_type": "code",
      "source": [
        "data = data.dropna(subset=['satisfaction_level'])"
      ],
      "metadata": {
        "id": "GyaTGxXL50s9"
      },
      "execution_count": 3,
      "outputs": []
    },
    {
      "cell_type": "code",
      "source": [
        "# Splitting the data into train, validation, and test sets\n",
        "data_train, data_test = train_test_split(data, train_size=0.8, random_state=1)\n",
        "data_train, data_val = train_test_split(data_train, train_size=0.8, random_state=1)\n"
      ],
      "metadata": {
        "id": "cZxY52ctn7jp"
      },
      "execution_count": 4,
      "outputs": []
    },
    {
      "cell_type": "code",
      "source": [
        "# Assuming 'data' is your DataFrame\n",
        "target_variable = 'satisfaction_level'\n",
        "features = ['dept', 'salary', 'last_evaluation', 'number_project', 'average_montly_hours', 'time_spend_company', 'Work_accident', 'promotion_last_5years' ]\n"
      ],
      "metadata": {
        "id": "-QDDT-Emn7qA"
      },
      "execution_count": 5,
      "outputs": []
    },
    {
      "cell_type": "code",
      "source": [
        "data.info()"
      ],
      "metadata": {
        "colab": {
          "base_uri": "https://localhost:8080/"
        },
        "id": "G1rsKIeu3aXy",
        "outputId": "35444b23-11d7-45f8-e0cd-4ab4ea4e7dc1"
      },
      "execution_count": 6,
      "outputs": [
        {
          "output_type": "stream",
          "name": "stdout",
          "text": [
            "<class 'pandas.core.frame.DataFrame'>\n",
            "Int64Index: 14999 entries, 0 to 15786\n",
            "Data columns (total 10 columns):\n",
            " #   Column                 Non-Null Count  Dtype  \n",
            "---  ------                 --------------  -----  \n",
            " 0   Emp ID                 14999 non-null  float64\n",
            " 1   satisfaction_level     14999 non-null  float64\n",
            " 2   last_evaluation        14999 non-null  float64\n",
            " 3   number_project         14999 non-null  float64\n",
            " 4   average_montly_hours   14999 non-null  float64\n",
            " 5   time_spend_company     14999 non-null  float64\n",
            " 6   Work_accident          14999 non-null  float64\n",
            " 7   promotion_last_5years  14999 non-null  float64\n",
            " 8   dept                   14999 non-null  object \n",
            " 9   salary                 14999 non-null  object \n",
            "dtypes: float64(8), object(2)\n",
            "memory usage: 1.3+ MB\n"
          ]
        }
      ]
    },
    {
      "cell_type": "code",
      "source": [
        "data.head()"
      ],
      "metadata": {
        "colab": {
          "base_uri": "https://localhost:8080/",
          "height": 206
        },
        "id": "L-wWaoE25Gsy",
        "outputId": "1bd1fb71-ea72-4027-dafe-4f463399cc95"
      },
      "execution_count": 7,
      "outputs": [
        {
          "output_type": "execute_result",
          "data": {
            "text/plain": [
              "   Emp ID  satisfaction_level  last_evaluation  number_project  \\\n",
              "0     1.0                0.38             0.53             2.0   \n",
              "1     2.0                0.80             0.86             5.0   \n",
              "2     3.0                0.11             0.88             7.0   \n",
              "3     4.0                0.72             0.87             5.0   \n",
              "4     5.0                0.37             0.52             2.0   \n",
              "\n",
              "   average_montly_hours  time_spend_company  Work_accident  \\\n",
              "0                 157.0                 3.0            0.0   \n",
              "1                 262.0                 6.0            0.0   \n",
              "2                 272.0                 4.0            0.0   \n",
              "3                 223.0                 5.0            0.0   \n",
              "4                 159.0                 3.0            0.0   \n",
              "\n",
              "   promotion_last_5years   dept  salary  \n",
              "0                    0.0  sales     low  \n",
              "1                    0.0  sales  medium  \n",
              "2                    0.0  sales  medium  \n",
              "3                    0.0  sales     low  \n",
              "4                    0.0  sales     low  "
            ],
            "text/html": [
              "\n",
              "  <div id=\"df-2d43cf83-1759-414f-88fb-a578516fbd6b\" class=\"colab-df-container\">\n",
              "    <div>\n",
              "<style scoped>\n",
              "    .dataframe tbody tr th:only-of-type {\n",
              "        vertical-align: middle;\n",
              "    }\n",
              "\n",
              "    .dataframe tbody tr th {\n",
              "        vertical-align: top;\n",
              "    }\n",
              "\n",
              "    .dataframe thead th {\n",
              "        text-align: right;\n",
              "    }\n",
              "</style>\n",
              "<table border=\"1\" class=\"dataframe\">\n",
              "  <thead>\n",
              "    <tr style=\"text-align: right;\">\n",
              "      <th></th>\n",
              "      <th>Emp ID</th>\n",
              "      <th>satisfaction_level</th>\n",
              "      <th>last_evaluation</th>\n",
              "      <th>number_project</th>\n",
              "      <th>average_montly_hours</th>\n",
              "      <th>time_spend_company</th>\n",
              "      <th>Work_accident</th>\n",
              "      <th>promotion_last_5years</th>\n",
              "      <th>dept</th>\n",
              "      <th>salary</th>\n",
              "    </tr>\n",
              "  </thead>\n",
              "  <tbody>\n",
              "    <tr>\n",
              "      <th>0</th>\n",
              "      <td>1.0</td>\n",
              "      <td>0.38</td>\n",
              "      <td>0.53</td>\n",
              "      <td>2.0</td>\n",
              "      <td>157.0</td>\n",
              "      <td>3.0</td>\n",
              "      <td>0.0</td>\n",
              "      <td>0.0</td>\n",
              "      <td>sales</td>\n",
              "      <td>low</td>\n",
              "    </tr>\n",
              "    <tr>\n",
              "      <th>1</th>\n",
              "      <td>2.0</td>\n",
              "      <td>0.80</td>\n",
              "      <td>0.86</td>\n",
              "      <td>5.0</td>\n",
              "      <td>262.0</td>\n",
              "      <td>6.0</td>\n",
              "      <td>0.0</td>\n",
              "      <td>0.0</td>\n",
              "      <td>sales</td>\n",
              "      <td>medium</td>\n",
              "    </tr>\n",
              "    <tr>\n",
              "      <th>2</th>\n",
              "      <td>3.0</td>\n",
              "      <td>0.11</td>\n",
              "      <td>0.88</td>\n",
              "      <td>7.0</td>\n",
              "      <td>272.0</td>\n",
              "      <td>4.0</td>\n",
              "      <td>0.0</td>\n",
              "      <td>0.0</td>\n",
              "      <td>sales</td>\n",
              "      <td>medium</td>\n",
              "    </tr>\n",
              "    <tr>\n",
              "      <th>3</th>\n",
              "      <td>4.0</td>\n",
              "      <td>0.72</td>\n",
              "      <td>0.87</td>\n",
              "      <td>5.0</td>\n",
              "      <td>223.0</td>\n",
              "      <td>5.0</td>\n",
              "      <td>0.0</td>\n",
              "      <td>0.0</td>\n",
              "      <td>sales</td>\n",
              "      <td>low</td>\n",
              "    </tr>\n",
              "    <tr>\n",
              "      <th>4</th>\n",
              "      <td>5.0</td>\n",
              "      <td>0.37</td>\n",
              "      <td>0.52</td>\n",
              "      <td>2.0</td>\n",
              "      <td>159.0</td>\n",
              "      <td>3.0</td>\n",
              "      <td>0.0</td>\n",
              "      <td>0.0</td>\n",
              "      <td>sales</td>\n",
              "      <td>low</td>\n",
              "    </tr>\n",
              "  </tbody>\n",
              "</table>\n",
              "</div>\n",
              "    <div class=\"colab-df-buttons\">\n",
              "\n",
              "  <div class=\"colab-df-container\">\n",
              "    <button class=\"colab-df-convert\" onclick=\"convertToInteractive('df-2d43cf83-1759-414f-88fb-a578516fbd6b')\"\n",
              "            title=\"Convert this dataframe to an interactive table.\"\n",
              "            style=\"display:none;\">\n",
              "\n",
              "  <svg xmlns=\"http://www.w3.org/2000/svg\" height=\"24px\" viewBox=\"0 -960 960 960\">\n",
              "    <path d=\"M120-120v-720h720v720H120Zm60-500h600v-160H180v160Zm220 220h160v-160H400v160Zm0 220h160v-160H400v160ZM180-400h160v-160H180v160Zm440 0h160v-160H620v160ZM180-180h160v-160H180v160Zm440 0h160v-160H620v160Z\"/>\n",
              "  </svg>\n",
              "    </button>\n",
              "\n",
              "  <style>\n",
              "    .colab-df-container {\n",
              "      display:flex;\n",
              "      gap: 12px;\n",
              "    }\n",
              "\n",
              "    .colab-df-convert {\n",
              "      background-color: #E8F0FE;\n",
              "      border: none;\n",
              "      border-radius: 50%;\n",
              "      cursor: pointer;\n",
              "      display: none;\n",
              "      fill: #1967D2;\n",
              "      height: 32px;\n",
              "      padding: 0 0 0 0;\n",
              "      width: 32px;\n",
              "    }\n",
              "\n",
              "    .colab-df-convert:hover {\n",
              "      background-color: #E2EBFA;\n",
              "      box-shadow: 0px 1px 2px rgba(60, 64, 67, 0.3), 0px 1px 3px 1px rgba(60, 64, 67, 0.15);\n",
              "      fill: #174EA6;\n",
              "    }\n",
              "\n",
              "    .colab-df-buttons div {\n",
              "      margin-bottom: 4px;\n",
              "    }\n",
              "\n",
              "    [theme=dark] .colab-df-convert {\n",
              "      background-color: #3B4455;\n",
              "      fill: #D2E3FC;\n",
              "    }\n",
              "\n",
              "    [theme=dark] .colab-df-convert:hover {\n",
              "      background-color: #434B5C;\n",
              "      box-shadow: 0px 1px 3px 1px rgba(0, 0, 0, 0.15);\n",
              "      filter: drop-shadow(0px 1px 2px rgba(0, 0, 0, 0.3));\n",
              "      fill: #FFFFFF;\n",
              "    }\n",
              "  </style>\n",
              "\n",
              "    <script>\n",
              "      const buttonEl =\n",
              "        document.querySelector('#df-2d43cf83-1759-414f-88fb-a578516fbd6b button.colab-df-convert');\n",
              "      buttonEl.style.display =\n",
              "        google.colab.kernel.accessAllowed ? 'block' : 'none';\n",
              "\n",
              "      async function convertToInteractive(key) {\n",
              "        const element = document.querySelector('#df-2d43cf83-1759-414f-88fb-a578516fbd6b');\n",
              "        const dataTable =\n",
              "          await google.colab.kernel.invokeFunction('convertToInteractive',\n",
              "                                                    [key], {});\n",
              "        if (!dataTable) return;\n",
              "\n",
              "        const docLinkHtml = 'Like what you see? Visit the ' +\n",
              "          '<a target=\"_blank\" href=https://colab.research.google.com/notebooks/data_table.ipynb>data table notebook</a>'\n",
              "          + ' to learn more about interactive tables.';\n",
              "        element.innerHTML = '';\n",
              "        dataTable['output_type'] = 'display_data';\n",
              "        await google.colab.output.renderOutput(dataTable, element);\n",
              "        const docLink = document.createElement('div');\n",
              "        docLink.innerHTML = docLinkHtml;\n",
              "        element.appendChild(docLink);\n",
              "      }\n",
              "    </script>\n",
              "  </div>\n",
              "\n",
              "\n",
              "<div id=\"df-7d63b027-ab85-409f-a0bc-f2108c35835f\">\n",
              "  <button class=\"colab-df-quickchart\" onclick=\"quickchart('df-7d63b027-ab85-409f-a0bc-f2108c35835f')\"\n",
              "            title=\"Suggest charts\"\n",
              "            style=\"display:none;\">\n",
              "\n",
              "<svg xmlns=\"http://www.w3.org/2000/svg\" height=\"24px\"viewBox=\"0 0 24 24\"\n",
              "     width=\"24px\">\n",
              "    <g>\n",
              "        <path d=\"M19 3H5c-1.1 0-2 .9-2 2v14c0 1.1.9 2 2 2h14c1.1 0 2-.9 2-2V5c0-1.1-.9-2-2-2zM9 17H7v-7h2v7zm4 0h-2V7h2v10zm4 0h-2v-4h2v4z\"/>\n",
              "    </g>\n",
              "</svg>\n",
              "  </button>\n",
              "\n",
              "<style>\n",
              "  .colab-df-quickchart {\n",
              "      --bg-color: #E8F0FE;\n",
              "      --fill-color: #1967D2;\n",
              "      --hover-bg-color: #E2EBFA;\n",
              "      --hover-fill-color: #174EA6;\n",
              "      --disabled-fill-color: #AAA;\n",
              "      --disabled-bg-color: #DDD;\n",
              "  }\n",
              "\n",
              "  [theme=dark] .colab-df-quickchart {\n",
              "      --bg-color: #3B4455;\n",
              "      --fill-color: #D2E3FC;\n",
              "      --hover-bg-color: #434B5C;\n",
              "      --hover-fill-color: #FFFFFF;\n",
              "      --disabled-bg-color: #3B4455;\n",
              "      --disabled-fill-color: #666;\n",
              "  }\n",
              "\n",
              "  .colab-df-quickchart {\n",
              "    background-color: var(--bg-color);\n",
              "    border: none;\n",
              "    border-radius: 50%;\n",
              "    cursor: pointer;\n",
              "    display: none;\n",
              "    fill: var(--fill-color);\n",
              "    height: 32px;\n",
              "    padding: 0;\n",
              "    width: 32px;\n",
              "  }\n",
              "\n",
              "  .colab-df-quickchart:hover {\n",
              "    background-color: var(--hover-bg-color);\n",
              "    box-shadow: 0 1px 2px rgba(60, 64, 67, 0.3), 0 1px 3px 1px rgba(60, 64, 67, 0.15);\n",
              "    fill: var(--button-hover-fill-color);\n",
              "  }\n",
              "\n",
              "  .colab-df-quickchart-complete:disabled,\n",
              "  .colab-df-quickchart-complete:disabled:hover {\n",
              "    background-color: var(--disabled-bg-color);\n",
              "    fill: var(--disabled-fill-color);\n",
              "    box-shadow: none;\n",
              "  }\n",
              "\n",
              "  .colab-df-spinner {\n",
              "    border: 2px solid var(--fill-color);\n",
              "    border-color: transparent;\n",
              "    border-bottom-color: var(--fill-color);\n",
              "    animation:\n",
              "      spin 1s steps(1) infinite;\n",
              "  }\n",
              "\n",
              "  @keyframes spin {\n",
              "    0% {\n",
              "      border-color: transparent;\n",
              "      border-bottom-color: var(--fill-color);\n",
              "      border-left-color: var(--fill-color);\n",
              "    }\n",
              "    20% {\n",
              "      border-color: transparent;\n",
              "      border-left-color: var(--fill-color);\n",
              "      border-top-color: var(--fill-color);\n",
              "    }\n",
              "    30% {\n",
              "      border-color: transparent;\n",
              "      border-left-color: var(--fill-color);\n",
              "      border-top-color: var(--fill-color);\n",
              "      border-right-color: var(--fill-color);\n",
              "    }\n",
              "    40% {\n",
              "      border-color: transparent;\n",
              "      border-right-color: var(--fill-color);\n",
              "      border-top-color: var(--fill-color);\n",
              "    }\n",
              "    60% {\n",
              "      border-color: transparent;\n",
              "      border-right-color: var(--fill-color);\n",
              "    }\n",
              "    80% {\n",
              "      border-color: transparent;\n",
              "      border-right-color: var(--fill-color);\n",
              "      border-bottom-color: var(--fill-color);\n",
              "    }\n",
              "    90% {\n",
              "      border-color: transparent;\n",
              "      border-bottom-color: var(--fill-color);\n",
              "    }\n",
              "  }\n",
              "</style>\n",
              "\n",
              "  <script>\n",
              "    async function quickchart(key) {\n",
              "      const quickchartButtonEl =\n",
              "        document.querySelector('#' + key + ' button');\n",
              "      quickchartButtonEl.disabled = true;  // To prevent multiple clicks.\n",
              "      quickchartButtonEl.classList.add('colab-df-spinner');\n",
              "      try {\n",
              "        const charts = await google.colab.kernel.invokeFunction(\n",
              "            'suggestCharts', [key], {});\n",
              "      } catch (error) {\n",
              "        console.error('Error during call to suggestCharts:', error);\n",
              "      }\n",
              "      quickchartButtonEl.classList.remove('colab-df-spinner');\n",
              "      quickchartButtonEl.classList.add('colab-df-quickchart-complete');\n",
              "    }\n",
              "    (() => {\n",
              "      let quickchartButtonEl =\n",
              "        document.querySelector('#df-7d63b027-ab85-409f-a0bc-f2108c35835f button');\n",
              "      quickchartButtonEl.style.display =\n",
              "        google.colab.kernel.accessAllowed ? 'block' : 'none';\n",
              "    })();\n",
              "  </script>\n",
              "</div>\n",
              "    </div>\n",
              "  </div>\n"
            ]
          },
          "metadata": {},
          "execution_count": 7
        }
      ]
    },
    {
      "cell_type": "code",
      "source": [
        "# Define transformers\n",
        "numeric_transformer = Pipeline(steps=[\n",
        "    ('scaler', StandardScaler())\n",
        "])\n",
        "\n",
        "categorical_transformer = Pipeline(steps=[\n",
        "    ('onehot', OneHotEncoder(handle_unknown='ignore', sparse=False))\n",
        "])\n"
      ],
      "metadata": {
        "id": "4Ta5SJow59nj"
      },
      "execution_count": 8,
      "outputs": []
    },
    {
      "cell_type": "code",
      "source": [
        "# Preprocessing: Handling Missing Values and Encoding Categorical Columns\n",
        "numeric_features = ['last_evaluation', 'number_project', 'average_montly_hours', 'time_spend_company', 'Work_accident', 'promotion_last_5years']\n",
        "categorical_features = ['dept', 'salary']"
      ],
      "metadata": {
        "id": "VM6URSu-4HLs"
      },
      "execution_count": 9,
      "outputs": []
    },
    {
      "cell_type": "code",
      "source": [
        "# Pipeline for numeric values: Apply a StandardScaler\n",
        "num_pipeline = Pipeline([\n",
        "    (\"scale\", StandardScaler())\n",
        "])\n",
        "\n",
        "# Pipeline for categorical values: Apply one-hot encoding\n",
        "cat_pipeline = Pipeline([\n",
        "    (\"encode\", OneHotEncoder())\n",
        "])\n",
        "\n",
        "preprocessing = ColumnTransformer([\n",
        "    (\"numeric\", num_pipeline, numeric_features),\n",
        "    (\"categorical\", cat_pipeline, categorical_features)\n",
        "])"
      ],
      "metadata": {
        "id": "b1dKrZ00oMbv"
      },
      "execution_count": 10,
      "outputs": []
    },
    {
      "cell_type": "code",
      "source": [
        "X_val = data_val.drop(target_variable, axis=1)  # Features for validation\n",
        "y_val = data_val[target_variable]  # Target variable for validation\n",
        "\n",
        "X_train = data_train.drop(target_variable, axis=1)  # Features for validation\n",
        "y_train = data_train[target_variable]  # Target variable for validation\n",
        "\n",
        "\n",
        "X_test = data_test.drop(target_variable, axis=1)  # Features for validation\n",
        "y_test = data_test[target_variable]  # Target variable for validation\n"
      ],
      "metadata": {
        "id": "-kw0kzV6qdJI"
      },
      "execution_count": 11,
      "outputs": []
    },
    {
      "cell_type": "code",
      "source": [
        "# Preprocess the training data\n",
        "X_train = preprocessing.fit_transform(X_train)  # Fit and transform training data\n",
        "\n",
        "# Transform the validation data using the same preprocessor\n",
        "X_val = preprocessing.transform(X_val)  # Transform validation data"
      ],
      "metadata": {
        "id": "Mo0cu8RAtTA2"
      },
      "execution_count": 12,
      "outputs": []
    },
    {
      "cell_type": "code",
      "source": [
        "# Preprocess the training data\n",
        "X_test = preprocessing.transform(X_test)  # Fit and transform training data"
      ],
      "metadata": {
        "id": "KQKzk6rVy94x"
      },
      "execution_count": 13,
      "outputs": []
    },
    {
      "cell_type": "code",
      "source": [
        "# Create a Sequential model\n",
        "model = Sequential([\n",
        "    Dense(64, activation='relu', input_shape=(X_train.shape[1],)),\n",
        "    Dense(32, activation='relu'),\n",
        "    Dense(1)  # Output layer for regression task with linear activation\n",
        "])"
      ],
      "metadata": {
        "id": "h5OhCGMOrx2y"
      },
      "execution_count": 14,
      "outputs": []
    },
    {
      "cell_type": "code",
      "source": [
        "# Compile the model\n",
        "model.compile(optimizer='adam', loss='mean_squared_error', metrics=['RootMeanSquaredError'])\n"
      ],
      "metadata": {
        "id": "BYT9ONogryrk"
      },
      "execution_count": 15,
      "outputs": []
    },
    {
      "cell_type": "code",
      "source": [
        "history = model.fit(X_train, y_train, epochs=50, validation_data=(X_val, y_val), verbose=2)"
      ],
      "metadata": {
        "colab": {
          "base_uri": "https://localhost:8080/"
        },
        "id": "Ba0vjW3FudDa",
        "outputId": "e65f5487-b99b-4f24-ea2a-2cea7f0eb4a7"
      },
      "execution_count": 16,
      "outputs": [
        {
          "output_type": "stream",
          "name": "stdout",
          "text": [
            "Epoch 1/50\n",
            "300/300 - 9s - loss: 0.0662 - root_mean_squared_error: 0.2573 - val_loss: 0.0419 - val_root_mean_squared_error: 0.2047 - 9s/epoch - 29ms/step\n",
            "Epoch 2/50\n",
            "300/300 - 1s - loss: 0.0404 - root_mean_squared_error: 0.2010 - val_loss: 0.0405 - val_root_mean_squared_error: 0.2014 - 912ms/epoch - 3ms/step\n",
            "Epoch 3/50\n",
            "300/300 - 1s - loss: 0.0385 - root_mean_squared_error: 0.1962 - val_loss: 0.0387 - val_root_mean_squared_error: 0.1968 - 884ms/epoch - 3ms/step\n",
            "Epoch 4/50\n",
            "300/300 - 1s - loss: 0.0373 - root_mean_squared_error: 0.1930 - val_loss: 0.0374 - val_root_mean_squared_error: 0.1933 - 867ms/epoch - 3ms/step\n",
            "Epoch 5/50\n",
            "300/300 - 1s - loss: 0.0365 - root_mean_squared_error: 0.1910 - val_loss: 0.0376 - val_root_mean_squared_error: 0.1939 - 881ms/epoch - 3ms/step\n",
            "Epoch 6/50\n",
            "300/300 - 1s - loss: 0.0360 - root_mean_squared_error: 0.1896 - val_loss: 0.0374 - val_root_mean_squared_error: 0.1934 - 864ms/epoch - 3ms/step\n",
            "Epoch 7/50\n",
            "300/300 - 1s - loss: 0.0355 - root_mean_squared_error: 0.1883 - val_loss: 0.0379 - val_root_mean_squared_error: 0.1946 - 902ms/epoch - 3ms/step\n",
            "Epoch 8/50\n",
            "300/300 - 1s - loss: 0.0349 - root_mean_squared_error: 0.1867 - val_loss: 0.0379 - val_root_mean_squared_error: 0.1946 - 877ms/epoch - 3ms/step\n",
            "Epoch 9/50\n",
            "300/300 - 1s - loss: 0.0349 - root_mean_squared_error: 0.1868 - val_loss: 0.0362 - val_root_mean_squared_error: 0.1904 - 869ms/epoch - 3ms/step\n",
            "Epoch 10/50\n",
            "300/300 - 1s - loss: 0.0342 - root_mean_squared_error: 0.1850 - val_loss: 0.0381 - val_root_mean_squared_error: 0.1951 - 921ms/epoch - 3ms/step\n",
            "Epoch 11/50\n",
            "300/300 - 1s - loss: 0.0336 - root_mean_squared_error: 0.1834 - val_loss: 0.0366 - val_root_mean_squared_error: 0.1914 - 864ms/epoch - 3ms/step\n",
            "Epoch 12/50\n",
            "300/300 - 1s - loss: 0.0334 - root_mean_squared_error: 0.1826 - val_loss: 0.0359 - val_root_mean_squared_error: 0.1895 - 1s/epoch - 4ms/step\n",
            "Epoch 13/50\n",
            "300/300 - 1s - loss: 0.0337 - root_mean_squared_error: 0.1837 - val_loss: 0.0365 - val_root_mean_squared_error: 0.1909 - 1s/epoch - 4ms/step\n",
            "Epoch 14/50\n",
            "300/300 - 1s - loss: 0.0330 - root_mean_squared_error: 0.1817 - val_loss: 0.0357 - val_root_mean_squared_error: 0.1888 - 1s/epoch - 4ms/step\n",
            "Epoch 15/50\n",
            "300/300 - 1s - loss: 0.0328 - root_mean_squared_error: 0.1812 - val_loss: 0.0370 - val_root_mean_squared_error: 0.1923 - 862ms/epoch - 3ms/step\n",
            "Epoch 16/50\n",
            "300/300 - 1s - loss: 0.0326 - root_mean_squared_error: 0.1805 - val_loss: 0.0358 - val_root_mean_squared_error: 0.1892 - 897ms/epoch - 3ms/step\n",
            "Epoch 17/50\n",
            "300/300 - 1s - loss: 0.0324 - root_mean_squared_error: 0.1800 - val_loss: 0.0350 - val_root_mean_squared_error: 0.1871 - 884ms/epoch - 3ms/step\n",
            "Epoch 18/50\n",
            "300/300 - 1s - loss: 0.0319 - root_mean_squared_error: 0.1786 - val_loss: 0.0362 - val_root_mean_squared_error: 0.1902 - 858ms/epoch - 3ms/step\n",
            "Epoch 19/50\n",
            "300/300 - 1s - loss: 0.0322 - root_mean_squared_error: 0.1795 - val_loss: 0.0358 - val_root_mean_squared_error: 0.1891 - 925ms/epoch - 3ms/step\n",
            "Epoch 20/50\n",
            "300/300 - 1s - loss: 0.0317 - root_mean_squared_error: 0.1779 - val_loss: 0.0360 - val_root_mean_squared_error: 0.1899 - 870ms/epoch - 3ms/step\n",
            "Epoch 21/50\n",
            "300/300 - 1s - loss: 0.0315 - root_mean_squared_error: 0.1775 - val_loss: 0.0360 - val_root_mean_squared_error: 0.1896 - 878ms/epoch - 3ms/step\n",
            "Epoch 22/50\n",
            "300/300 - 1s - loss: 0.0312 - root_mean_squared_error: 0.1767 - val_loss: 0.0354 - val_root_mean_squared_error: 0.1883 - 865ms/epoch - 3ms/step\n",
            "Epoch 23/50\n",
            "300/300 - 1s - loss: 0.0310 - root_mean_squared_error: 0.1759 - val_loss: 0.0366 - val_root_mean_squared_error: 0.1914 - 862ms/epoch - 3ms/step\n",
            "Epoch 24/50\n",
            "300/300 - 1s - loss: 0.0313 - root_mean_squared_error: 0.1768 - val_loss: 0.0354 - val_root_mean_squared_error: 0.1882 - 871ms/epoch - 3ms/step\n",
            "Epoch 25/50\n",
            "300/300 - 1s - loss: 0.0309 - root_mean_squared_error: 0.1757 - val_loss: 0.0359 - val_root_mean_squared_error: 0.1895 - 905ms/epoch - 3ms/step\n",
            "Epoch 26/50\n",
            "300/300 - 1s - loss: 0.0307 - root_mean_squared_error: 0.1751 - val_loss: 0.0367 - val_root_mean_squared_error: 0.1916 - 1s/epoch - 5ms/step\n",
            "Epoch 27/50\n",
            "300/300 - 1s - loss: 0.0308 - root_mean_squared_error: 0.1756 - val_loss: 0.0381 - val_root_mean_squared_error: 0.1952 - 1s/epoch - 4ms/step\n",
            "Epoch 28/50\n",
            "300/300 - 1s - loss: 0.0305 - root_mean_squared_error: 0.1747 - val_loss: 0.0360 - val_root_mean_squared_error: 0.1897 - 1s/epoch - 4ms/step\n",
            "Epoch 29/50\n",
            "300/300 - 1s - loss: 0.0301 - root_mean_squared_error: 0.1736 - val_loss: 0.0361 - val_root_mean_squared_error: 0.1899 - 873ms/epoch - 3ms/step\n",
            "Epoch 30/50\n",
            "300/300 - 1s - loss: 0.0300 - root_mean_squared_error: 0.1732 - val_loss: 0.0380 - val_root_mean_squared_error: 0.1949 - 880ms/epoch - 3ms/step\n",
            "Epoch 31/50\n",
            "300/300 - 1s - loss: 0.0299 - root_mean_squared_error: 0.1728 - val_loss: 0.0362 - val_root_mean_squared_error: 0.1902 - 892ms/epoch - 3ms/step\n",
            "Epoch 32/50\n",
            "300/300 - 1s - loss: 0.0296 - root_mean_squared_error: 0.1721 - val_loss: 0.0358 - val_root_mean_squared_error: 0.1891 - 876ms/epoch - 3ms/step\n",
            "Epoch 33/50\n",
            "300/300 - 1s - loss: 0.0294 - root_mean_squared_error: 0.1716 - val_loss: 0.0373 - val_root_mean_squared_error: 0.1930 - 891ms/epoch - 3ms/step\n",
            "Epoch 34/50\n",
            "300/300 - 1s - loss: 0.0292 - root_mean_squared_error: 0.1710 - val_loss: 0.0365 - val_root_mean_squared_error: 0.1910 - 889ms/epoch - 3ms/step\n",
            "Epoch 35/50\n",
            "300/300 - 1s - loss: 0.0295 - root_mean_squared_error: 0.1716 - val_loss: 0.0368 - val_root_mean_squared_error: 0.1920 - 880ms/epoch - 3ms/step\n",
            "Epoch 36/50\n",
            "300/300 - 1s - loss: 0.0294 - root_mean_squared_error: 0.1714 - val_loss: 0.0363 - val_root_mean_squared_error: 0.1907 - 884ms/epoch - 3ms/step\n",
            "Epoch 37/50\n",
            "300/300 - 1s - loss: 0.0290 - root_mean_squared_error: 0.1703 - val_loss: 0.0359 - val_root_mean_squared_error: 0.1894 - 856ms/epoch - 3ms/step\n",
            "Epoch 38/50\n",
            "300/300 - 1s - loss: 0.0290 - root_mean_squared_error: 0.1702 - val_loss: 0.0367 - val_root_mean_squared_error: 0.1915 - 878ms/epoch - 3ms/step\n",
            "Epoch 39/50\n",
            "300/300 - 1s - loss: 0.0289 - root_mean_squared_error: 0.1700 - val_loss: 0.0356 - val_root_mean_squared_error: 0.1888 - 965ms/epoch - 3ms/step\n",
            "Epoch 40/50\n",
            "300/300 - 1s - loss: 0.0287 - root_mean_squared_error: 0.1694 - val_loss: 0.0367 - val_root_mean_squared_error: 0.1915 - 1s/epoch - 5ms/step\n",
            "Epoch 41/50\n",
            "300/300 - 1s - loss: 0.0287 - root_mean_squared_error: 0.1694 - val_loss: 0.0366 - val_root_mean_squared_error: 0.1914 - 1s/epoch - 5ms/step\n",
            "Epoch 42/50\n",
            "300/300 - 1s - loss: 0.0285 - root_mean_squared_error: 0.1689 - val_loss: 0.0366 - val_root_mean_squared_error: 0.1914 - 979ms/epoch - 3ms/step\n",
            "Epoch 43/50\n",
            "300/300 - 1s - loss: 0.0286 - root_mean_squared_error: 0.1690 - val_loss: 0.0359 - val_root_mean_squared_error: 0.1895 - 898ms/epoch - 3ms/step\n",
            "Epoch 44/50\n",
            "300/300 - 1s - loss: 0.0285 - root_mean_squared_error: 0.1689 - val_loss: 0.0373 - val_root_mean_squared_error: 0.1931 - 878ms/epoch - 3ms/step\n",
            "Epoch 45/50\n",
            "300/300 - 1s - loss: 0.0282 - root_mean_squared_error: 0.1679 - val_loss: 0.0367 - val_root_mean_squared_error: 0.1915 - 896ms/epoch - 3ms/step\n",
            "Epoch 46/50\n",
            "300/300 - 1s - loss: 0.0281 - root_mean_squared_error: 0.1676 - val_loss: 0.0368 - val_root_mean_squared_error: 0.1918 - 879ms/epoch - 3ms/step\n",
            "Epoch 47/50\n",
            "300/300 - 1s - loss: 0.0281 - root_mean_squared_error: 0.1675 - val_loss: 0.0373 - val_root_mean_squared_error: 0.1930 - 882ms/epoch - 3ms/step\n",
            "Epoch 48/50\n",
            "300/300 - 1s - loss: 0.0281 - root_mean_squared_error: 0.1676 - val_loss: 0.0364 - val_root_mean_squared_error: 0.1908 - 900ms/epoch - 3ms/step\n",
            "Epoch 49/50\n",
            "300/300 - 1s - loss: 0.0278 - root_mean_squared_error: 0.1668 - val_loss: 0.0365 - val_root_mean_squared_error: 0.1910 - 885ms/epoch - 3ms/step\n",
            "Epoch 50/50\n",
            "300/300 - 1s - loss: 0.0278 - root_mean_squared_error: 0.1669 - val_loss: 0.0364 - val_root_mean_squared_error: 0.1908 - 889ms/epoch - 3ms/step\n"
          ]
        }
      ]
    },
    {
      "cell_type": "code",
      "source": [
        "val_rmse_nn = model.evaluate(X_val, y_val)[1]\n",
        "print(f'RMSE on Validation Data (Neural Network): {val_rmse_nn}')\n"
      ],
      "metadata": {
        "id": "QsC8ClCcT9eA",
        "colab": {
          "base_uri": "https://localhost:8080/"
        },
        "outputId": "7713912c-3140-4195-f372-9d5d1c877693"
      },
      "execution_count": 17,
      "outputs": [
        {
          "output_type": "stream",
          "name": "stdout",
          "text": [
            "75/75 [==============================] - 0s 2ms/step - loss: 0.0364 - root_mean_squared_error: 0.1908\n",
            "RMSE on Validation Data (Neural Network): 0.19080086052417755\n"
          ]
        }
      ]
    },
    {
      "cell_type": "code",
      "source": [],
      "metadata": {
        "id": "VQm0R3mZ7l1f"
      },
      "execution_count": 17,
      "outputs": []
    }
  ]
}